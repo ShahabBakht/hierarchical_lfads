{
 "cells": [
  {
   "cell_type": "code",
   "execution_count": null,
   "metadata": {},
   "outputs": [],
   "source": [
    "from convolutionLFADS import *\n",
    "import torch"
   ]
  },
  {
   "cell_type": "code",
   "execution_count": null,
   "metadata": {},
   "outputs": [],
   "source": [
    "model_trained = torch.load('/network/tmp1/bakhtias/Results/LFADS/slurm-356320/entire_model.pth')#,map_location=torch.device('cpu')"
   ]
  },
  {
   "cell_type": "code",
   "execution_count": null,
   "metadata": {},
   "outputs": [],
   "source": [
    "for name, param in model_trained.named_parameters():\n",
    "    param.requires_grad = False\n",
    "    \n",
    "for name, param in model_trained.named_parameters():\n",
    "    print(name, ':', param.requires_grad)"
   ]
  },
  {
   "cell_type": "code",
   "execution_count": null,
   "metadata": {},
   "outputs": [],
   "source": [
    "train_data, train_loader, test_loader = get_data()"
   ]
  },
  {
   "cell_type": "code",
   "execution_count": null,
   "metadata": {},
   "outputs": [],
   "source": [
    "shape = (16,65,1,10,128,128)\n",
    "factor_shape = (16,10,65,4)\n",
    "tensor = torch.ones(())\n",
    "video_recon = tensor.new_empty(shape)\n",
    "video_orig = tensor.new_empty(shape)\n",
    "factors_recon = tensor.new_empty(factor_shape)\n",
    "i=0\n",
    "for data in train_loader:\n",
    "    video=data.to('cuda')\n",
    "    video_orig[i,:,:,:,:,:]=data\n",
    "    recon,factors=model_trained(video) #\n",
    "    video_recon[i,:,:,:,:,:] = recon\n",
    "    factors_recon[i,:,:,:] = factors\n",
    "    print('sample ',str(i))\n",
    "    i+=1\n"
   ]
  },
  {
   "cell_type": "code",
   "execution_count": null,
   "metadata": {},
   "outputs": [],
   "source": [
    "recon_video1 = video_recon[0,0,0,:,:,:]\n",
    "orig_video1 = video_orig[0,0,0,:,:,:]\n",
    "import matplotlib.pyplot as plt\n",
    "for t in range(0,test_video.shape[0]):\n",
    "    f, (ax1, ax2) = plt.subplots(1, 2, sharey=True)\n",
    "    neg1 = ax1.imshow(recon_video1[t,:,:]) #\n",
    "#     plt.clim(vmin=0, vmax=2)\n",
    "    neg2 = ax2.imshow(orig_video1[t,:,:]) #\n",
    "#     plt.clim()\n",
    "    neg1.set_clim(vmin=0, vmax=2)\n",
    "    neg2.set_clim(vmin=0, vmax=2)\n",
    "#     f.colorbar(neg1, ax=ax1)\n",
    "#     f.colorbar(neg2, ax=ax2)\n",
    "\n",
    "    plt.show()\n",
    "    f.savefig('/network/tmp1/bakhtias/Results/LFADS/Figures/'+str(t)+'.png')"
   ]
  },
  {
   "cell_type": "code",
   "execution_count": null,
   "metadata": {},
   "outputs": [],
   "source": [
    "import matplotlib.pyplot as plt\n",
    "from mpl_toolkits.mplot3d import Axes3D\n",
    "fig = plt.figure()\n",
    "ax = plt.axes(projection='3d')\n",
    "ax.plot(factors_recon[0,:,0,0],factors_recon[0,:,0,1],factors_recon[0,:,0,3],zdir='y')"
   ]
  },
  {
   "cell_type": "code",
   "execution_count": null,
   "metadata": {},
   "outputs": [],
   "source": []
  },
  {
   "cell_type": "code",
   "execution_count": null,
   "metadata": {},
   "outputs": [],
   "source": []
  }
 ],
 "metadata": {
  "kernelspec": {
   "display_name": "Python 3 (cenv-LFADS-nop)",
   "language": "python",
   "name": "cenv-lfads-nop"
  },
  "language_info": {
   "codemirror_mode": {
    "name": "ipython",
    "version": 3
   },
   "file_extension": ".py",
   "mimetype": "text/x-python",
   "name": "python",
   "nbconvert_exporter": "python",
   "pygments_lexer": "ipython3",
   "version": "3.7.6"
  }
 },
 "nbformat": 4,
 "nbformat_minor": 4
}
