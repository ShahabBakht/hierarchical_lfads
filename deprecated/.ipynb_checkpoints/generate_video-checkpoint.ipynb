{
 "cells": [
  {
   "cell_type": "code",
   "execution_count": 3,
   "metadata": {},
   "outputs": [
    {
     "name": "stderr",
     "output_type": "stream",
     "text": [
      "/home/luke/anaconda2/envs/pytorch04/lib/python3.5/site-packages/oasis/functions.py:14: UserWarning: Could not find cvxpy. Don't worry, you can still use OASIS, just not the slower interior point methods we compared to in the papers.\n",
      "  \"just not the slower interior point methods we compared to in the papers.\")\n"
     ]
    }
   ],
   "source": [
    "%matplotlib notebook\n",
    "\n",
    "import torch;\n",
    "import torchvision;\n",
    "import numpy as np;\n",
    "import matplotlib.pyplot as plt;\n",
    "from synthetic_data import generate_lorenz_data, SyntheticCalciumVideoDataset\n",
    "from matplotlib.animation import FuncAnimation"
   ]
  },
  {
   "cell_type": "code",
   "execution_count": 4,
   "metadata": {},
   "outputs": [
    {
     "name": "stdout",
     "output_type": "stream",
     "text": [
      "Generating Lorenz data\n",
      "Converting to rates and spikes\n",
      "Converting to fluorescence\n",
      "Train and test split\n",
      "Saving to .//synth_data/lorenz_100\n",
      "Saving variable with name:  valid_truth\n",
      "Saving variable with name:  train_data\n",
      "Saving variable with name:  valid_data\n",
      "Saving variable with name:  train_oasis\n",
      "Saving variable with name:  dt\n",
      "Saving variable with name:  cells\n",
      "Saving variable with name:  valid_calcium\n",
      "Saving variable with name:  valid_oasis\n",
      "Saving variable with name:  valid_fluor\n",
      "Saving variable with name:  train_latent\n",
      "Saving variable with name:  train_rates\n",
      "Saving variable with name:  valid_latent\n",
      "Saving variable with name:  train_truth\n",
      "Saving variable with name:  train_spikes\n",
      "Saving variable with name:  valid_spikes\n",
      "Saving variable with name:  conversion_factor\n",
      "Saving variable with name:  loading_weights\n",
      "Saving variable with name:  train_fluor\n",
      "Saving variable with name:  train_calcium\n",
      "Saving variable with name:  valid_rates\n",
      "Saving variable with name:  cell_loc\n"
     ]
    }
   ],
   "source": [
    "data_dict = generate_lorenz_data(20 , 65, 50, 100)\n",
    "cells = data_dict['cells']\n",
    "traces = data_dict['train_fluor']\n",
    "train_ds = SyntheticCalciumVideoDataset(traces=traces, cells=cells)"
   ]
  },
  {
   "cell_type": "code",
   "execution_count": null,
   "metadata": {},
   "outputs": [],
   "source": [
    "class data_to_video(object):\n",
    "    def __init__(ax, data):\n",
    "        self.data = data\n",
    "        self.ax = ax\n",
    "        \n",
    "    def init():\n",
    "        self.ax.imshow(dataset[0].cpu().numpy())\n",
    "        \n",
    "        \n",
    "    def __call__()"
   ]
  }
 ],
 "metadata": {
  "kernelspec": {
   "display_name": "Python 3",
   "language": "python",
   "name": "python3"
  },
  "language_info": {
   "codemirror_mode": {
    "name": "ipython",
    "version": 3
   },
   "file_extension": ".py",
   "mimetype": "text/x-python",
   "name": "python",
   "nbconvert_exporter": "python",
   "pygments_lexer": "ipython3",
   "version": "3.5.5"
  }
 },
 "nbformat": 4,
 "nbformat_minor": 2
}
